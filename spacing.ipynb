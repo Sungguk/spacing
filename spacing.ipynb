{
 "cells": [
  {
   "cell_type": "markdown",
   "metadata": {},
   "source": [
    "### 0. Import module required|"
   ]
  },
  {
   "cell_type": "code",
   "execution_count": 1,
   "metadata": {},
   "outputs": [
    {
     "name": "stderr",
     "output_type": "stream",
     "text": [
      "Using TensorFlow backend.\n"
     ]
    }
   ],
   "source": [
    "import re\n",
    "import pickle\n",
    "from collections import Counter\n",
    "import numpy as np\n",
    "\n",
    "from keras.models import Sequential, Model\n",
    "from keras.layers import Dense, Input, Flatten, Embedding, Concatenate, Conv1D, BatchNormalization, TimeDistributed, GRU, Reshape\n",
    "from keras.preprocessing.sequence import pad_sequences"
   ]
  },
  {
   "cell_type": "markdown",
   "metadata": {},
   "source": [
    "### 1. Data preprocessing and build word2idx "
   ]
  },
  {
   "cell_type": "code",
   "execution_count": 2,
   "metadata": {},
   "outputs": [],
   "source": [
    "MAX_SEQUENCE_LENGTH=200\n",
    "def hangulExtractor(str):\n",
    "    hangul = re.compile('[^ !?.$ㄱ-ㅎㅣ가-힣|a-z|A-Z]+') # 한글과 영어 띄어쓰기 중요 문장부호를 제외한 모든 글자\n",
    "    # hangul = re.compile('[^ \\u3131-\\u3163\\uac00-\\ud7a3]+')  \n",
    "    result = hangul.sub('', str)\n",
    "    return result\n",
    "rawfile = 'raw_spacing_corpus.txt'\n",
    "\n",
    "def load_obj(name ):\n",
    "    with open(name + '.pkl', 'rb') as f:\n",
    "        return pickle.load(f)\n",
    "\n",
    "def generate_word2idx():\n",
    "    tmp_corpus=[]\n",
    "    word2idx={}\n",
    "    with open(rawfile,'r') as fp:\n",
    "        for line in fp:\n",
    "            line=hangulExtractor(line)\n",
    "            tmp_corpus.extend(list(line.rstrip().replace(' ','')))\n",
    "        \n",
    "    for idx, (char, freq) in enumerate(Counter(tmp_corpus).most_common(),1):\n",
    "        word2idx[char]=idx\n",
    "    \n",
    "    def save_obj(obj, word2idx_file):\n",
    "        with open(word2idx_file,'wb') as f:\n",
    "            pickle.dump(obj, f, pickle.HIGHEST_PROTOCOL)\n",
    "            \n",
    "    save_obj(word2idx,'word2idx.pkl')\n",
    "    \n",
    "    return word2idx\n",
    "\n",
    "word2idx = generate_word2idx()\n",
    "EMBEDDING_DIM = 100\n",
    "DIC_SIZE = len(word2idx)\n",
    "embedding_matrix = np.random.random((len(word2idx)+1, EMBEDDING_DIM))"
   ]
  },
  {
   "cell_type": "markdown",
   "metadata": {},
   "source": [
    "### 3. Data loading and and convert"
   ]
  },
  {
   "cell_type": "code",
   "execution_count": 3,
   "metadata": {},
   "outputs": [],
   "source": [
    "def raw_corpus():\n",
    "    Filename = 'raw_spacing_corpus.txt'\n",
    "    raw_data=[]\n",
    "    with open(Filename,'r') as f:\n",
    "        for line in f:\n",
    "            raw_data.append(hangulExtractor(line.rstrip()))\n",
    "    return raw_data\n",
    "\n",
    "def generate_trainset(raw_data):\n",
    "    X,Y=[],[]\n",
    "    for sent in raw_data:\n",
    "        sent=sent.replace(' ','^')\n",
    "        segmented = list(sent)\n",
    "        \n",
    "        if len(segmented)<=MAX_SEQUENCE_LENGTH:\n",
    "            tmp_x, tmp_y = [],[]\n",
    "            tmp_length=len(segmented)\n",
    "            for idx in range(tmp_length):\n",
    "            \n",
    "                if idx < tmp_length-1:\n",
    "                    if segmented[idx] != '^':\n",
    "                        tmp_x.append(word2idx[segmented[idx]])\n",
    "                    \n",
    "                        if idx+1 < tmp_length:\n",
    "                            if segmented[idx+1] == '^':\n",
    "                                tmp_y.append(1)\n",
    "                            else:\n",
    "                                tmp_y.append(0)\n",
    "                        else:\n",
    "                            tmp_y.append(0)\n",
    "                elif idx == tmp_length-1:\n",
    "                    tmp_x.append(word2idx[segmented[idx]])\n",
    "                    tmp_y.append(1)\n",
    "            Y.append(tmp_y)\n",
    "            X.append(tmp_x)\n",
    "            tmp_x, tmp_x = [],[]        \n",
    "    return X,Y"
   ]
  },
  {
   "cell_type": "code",
   "execution_count": 4,
   "metadata": {},
   "outputs": [],
   "source": [
    "raw_data = raw_corpus()\n",
    "X,Y = generate_trainset(raw_data)"
   ]
  },
  {
   "cell_type": "code",
   "execution_count": 5,
   "metadata": {},
   "outputs": [],
   "source": [
    "X_train = pad_sequences(X, maxlen=MAX_SEQUENCE_LENGTH)"
   ]
  },
  {
   "cell_type": "markdown",
   "metadata": {},
   "source": [
    "### Model Construction "
   ]
  },
  {
   "cell_type": "code",
   "execution_count": 6,
   "metadata": {},
   "outputs": [],
   "source": [
    "def build_model():\n",
    "    \n",
    "    seq_input = Input(shape=(MAX_SEQUENCE_LENGTH,))\n",
    "    embedded_input = Embedding(DIC_SIZE, EMBEDDING_DIM, input_length = MAX_SEQUENCE_LENGTH)(seq_input)\n",
    "\n",
    "    convolution1= Conv1D(kernel_size=1, filters=32, padding = 'same')(embedded_input)\n",
    "    convolution2= Conv1D(kernel_size=2, filters=64, padding = 'same')(embedded_input)\n",
    "    convolution3= Conv1D(kernel_size=3, filters=128, padding = 'same')(embedded_input)\n",
    "    convolution4= Conv1D(kernel_size=4, filters=256, padding = 'same')(embedded_input)\n",
    "    \n",
    "    concatenate = Concatenate(axis=2)([convolution1,convolution2,convolution3,convolution4])\n",
    "    batchnormalization = BatchNormalization()(concatenate)\n",
    "    timedistributed1 = TimeDistributed(Dense(300))(batchnormalization)\n",
    "    timedistributed2 = TimeDistributed(Dense(150))(timedistributed1)\n",
    "    gru = GRU(units=50, return_sequences=True)(timedistributed2)\n",
    "    timedistributed3 = TimeDistributed(Dense(1))(gru)\n",
    "    b = Reshape((200,))(timedistributed3)\n",
    "    \n",
    "    model = Model(inputs=seq_input, output=b)\n",
    "    return model "
   ]
  },
  {
   "cell_type": "code",
   "execution_count": 7,
   "metadata": {},
   "outputs": [
    {
     "name": "stderr",
     "output_type": "stream",
     "text": [
      "/home/sghan/anaconda3/envs/py36/lib/python3.6/site-packages/ipykernel_launcher.py:19: UserWarning: Update your `Model` call to the Keras 2 API: `Model(inputs=Tensor(\"in..., outputs=Tensor(\"re...)`\n"
     ]
    }
   ],
   "source": [
    "model= build_model()"
   ]
  },
  {
   "cell_type": "code",
   "execution_count": 8,
   "metadata": {},
   "outputs": [
    {
     "name": "stdout",
     "output_type": "stream",
     "text": [
      "__________________________________________________________________________________________________\n",
      "Layer (type)                    Output Shape         Param #     Connected to                     \n",
      "==================================================================================================\n",
      "input_1 (InputLayer)            (None, 200)          0                                            \n",
      "__________________________________________________________________________________________________\n",
      "embedding_1 (Embedding)         (None, 200, 100)     194700      input_1[0][0]                    \n",
      "__________________________________________________________________________________________________\n",
      "conv1d_1 (Conv1D)               (None, 200, 32)      3232        embedding_1[0][0]                \n",
      "__________________________________________________________________________________________________\n",
      "conv1d_2 (Conv1D)               (None, 200, 64)      12864       embedding_1[0][0]                \n",
      "__________________________________________________________________________________________________\n",
      "conv1d_3 (Conv1D)               (None, 200, 128)     38528       embedding_1[0][0]                \n",
      "__________________________________________________________________________________________________\n",
      "conv1d_4 (Conv1D)               (None, 200, 256)     102656      embedding_1[0][0]                \n",
      "__________________________________________________________________________________________________\n",
      "concatenate_1 (Concatenate)     (None, 200, 480)     0           conv1d_1[0][0]                   \n",
      "                                                                 conv1d_2[0][0]                   \n",
      "                                                                 conv1d_3[0][0]                   \n",
      "                                                                 conv1d_4[0][0]                   \n",
      "__________________________________________________________________________________________________\n",
      "batch_normalization_1 (BatchNor (None, 200, 480)     1920        concatenate_1[0][0]              \n",
      "__________________________________________________________________________________________________\n",
      "time_distributed_1 (TimeDistrib (None, 200, 300)     144300      batch_normalization_1[0][0]      \n",
      "__________________________________________________________________________________________________\n",
      "time_distributed_2 (TimeDistrib (None, 200, 150)     45150       time_distributed_1[0][0]         \n",
      "__________________________________________________________________________________________________\n",
      "gru_1 (GRU)                     (None, 200, 50)      30150       time_distributed_2[0][0]         \n",
      "__________________________________________________________________________________________________\n",
      "time_distributed_3 (TimeDistrib (None, 200, 1)       51          gru_1[0][0]                      \n",
      "__________________________________________________________________________________________________\n",
      "reshape_1 (Reshape)             (None, 200)          0           time_distributed_3[0][0]         \n",
      "==================================================================================================\n",
      "Total params: 573,551\n",
      "Trainable params: 572,591\n",
      "Non-trainable params: 960\n",
      "__________________________________________________________________________________________________\n"
     ]
    }
   ],
   "source": [
    "model.summary()"
   ]
  },
  {
   "cell_type": "code",
   "execution_count": null,
   "metadata": {},
   "outputs": [],
   "source": []
  }
 ],
 "metadata": {
  "kernelspec": {
   "display_name": "Python 3",
   "language": "python",
   "name": "python3"
  },
  "language_info": {
   "codemirror_mode": {
    "name": "ipython",
    "version": 3
   },
   "file_extension": ".py",
   "mimetype": "text/x-python",
   "name": "python",
   "nbconvert_exporter": "python",
   "pygments_lexer": "ipython3",
   "version": "3.6.6"
  }
 },
 "nbformat": 4,
 "nbformat_minor": 2
}
